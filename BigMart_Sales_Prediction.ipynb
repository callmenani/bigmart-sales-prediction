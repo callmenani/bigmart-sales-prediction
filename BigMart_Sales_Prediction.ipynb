{
  "nbformat": 4,
  "nbformat_minor": 0,
  "metadata": {
    "colab": {
      "provenance": []
    },
    "kernelspec": {
      "name": "python3",
      "display_name": "Python 3"
    },
    "language_info": {
      "name": "python"
    }
  },
  "cells": [
    {
      "cell_type": "markdown",
      "source": [
        "\n",
        "BigMart_Sales_Prediction by Harsha Vardhan R\n"
      ],
      "metadata": {
        "id": "8o0Tb1YtMuVK"
      }
    },
    {
      "cell_type": "code",
      "execution_count": 1,
      "metadata": {
        "id": "_POdOh73LgWH"
      },
      "outputs": [],
      "source": [
        "import pandas as pd\n",
        "from sklearn.linear_model import LinearRegression\n",
        "from sklearn.metrics import mean_squared_error"
      ]
    },
    {
      "cell_type": "code",
      "source": [
        "train_data = pd.read_csv('train.csv')\n",
        "test_data = pd.read_csv('test.csv')"
      ],
      "metadata": {
        "id": "2SUOqzCoMFkM"
      },
      "execution_count": 2,
      "outputs": []
    },
    {
      "cell_type": "code",
      "source": [
        "print(train_data.head())\n"
      ],
      "metadata": {
        "colab": {
          "base_uri": "https://localhost:8080/"
        },
        "id": "q3VcPhIrMITW",
        "outputId": "da949bb9-0a61-4539-e8e2-e262a072f209"
      },
      "execution_count": 3,
      "outputs": [
        {
          "output_type": "stream",
          "name": "stdout",
          "text": [
            "   Item_Weight  Item_Visibility  Item_MRP  Outlet_Establishment_Year  \\\n",
            "0     6.800000         0.037490   48.6034                       2004   \n",
            "1    15.600000         0.172597  114.8518                       1997   \n",
            "2    12.911575         0.054721  107.8254                       1985   \n",
            "3    11.800000         0.098312   81.4618                       1998   \n",
            "4    17.850000         0.046600  125.1388                       2004   \n",
            "\n",
            "   Item_Outlet_Sales  Item_Fat_Content_LF  Item_Fat_Content_Low Fat  \\\n",
            "0           291.6204                    0                         1   \n",
            "1          2163.1842                    0                         1   \n",
            "2          2387.5588                    0                         1   \n",
            "3           161.1236                    0                         1   \n",
            "4          1981.4208                    0                         0   \n",
            "\n",
            "   Item_Fat_Content_Regular  Item_Fat_Content_low fat  Item_Fat_Content_reg  \\\n",
            "0                         0                         0                     0   \n",
            "1                         0                         0                     0   \n",
            "2                         0                         0                     0   \n",
            "3                         0                         0                     0   \n",
            "4                         1                         0                     0   \n",
            "\n",
            "   ...  Outlet_Size_High  Outlet_Size_Medium  Outlet_Size_Small  \\\n",
            "0  ...                 0                   0                  1   \n",
            "1  ...                 0                   0                  1   \n",
            "2  ...                 0                   1                  0   \n",
            "3  ...                 0                   0                  0   \n",
            "4  ...                 0                   0                  1   \n",
            "\n",
            "   Outlet_Location_Type_Tier 1  Outlet_Location_Type_Tier 2  \\\n",
            "0                            0                            1   \n",
            "1                            1                            0   \n",
            "2                            0                            0   \n",
            "3                            0                            0   \n",
            "4                            0                            1   \n",
            "\n",
            "   Outlet_Location_Type_Tier 3  Outlet_Type_Grocery Store  \\\n",
            "0                            0                          0   \n",
            "1                            0                          0   \n",
            "2                            1                          0   \n",
            "3                            1                          1   \n",
            "4                            0                          0   \n",
            "\n",
            "   Outlet_Type_Supermarket Type1  Outlet_Type_Supermarket Type2  \\\n",
            "0                              1                              0   \n",
            "1                              1                              0   \n",
            "2                              0                              0   \n",
            "3                              0                              0   \n",
            "4                              1                              0   \n",
            "\n",
            "   Outlet_Type_Supermarket Type3  \n",
            "0                              0  \n",
            "1                              0  \n",
            "2                              1  \n",
            "3                              0  \n",
            "4                              0  \n",
            "\n",
            "[5 rows x 36 columns]\n"
          ]
        }
      ]
    },
    {
      "cell_type": "code",
      "source": [
        "print('\\nShape of training data :',train_data.shape)\n",
        "print('\\nShape of testing data :',test_data.shape)"
      ],
      "metadata": {
        "colab": {
          "base_uri": "https://localhost:8080/"
        },
        "id": "4hj4_GCnMLAE",
        "outputId": "4102298c-a73a-4849-cd1f-72d0e1c30be4"
      },
      "execution_count": 4,
      "outputs": [
        {
          "output_type": "stream",
          "name": "stdout",
          "text": [
            "\n",
            "Shape of training data : (1364, 36)\n",
            "\n",
            "Shape of testing data : (341, 36)\n"
          ]
        }
      ]
    },
    {
      "cell_type": "code",
      "source": [
        "train_x = train_data.drop(columns=['Item_Outlet_Sales'],axis=1)\n",
        "train_y = train_data['Item_Outlet_Sales']\n"
      ],
      "metadata": {
        "id": "QPXyhQf4MNem"
      },
      "execution_count": 5,
      "outputs": []
    },
    {
      "cell_type": "code",
      "source": [
        "test_x = test_data.drop(columns=['Item_Outlet_Sales'],axis=1)\n",
        "test_y = test_data['Item_Outlet_Sales']\n"
      ],
      "metadata": {
        "id": "oTmDa1l3MRUv"
      },
      "execution_count": 6,
      "outputs": []
    },
    {
      "cell_type": "code",
      "source": [
        "model = LinearRegression()\n"
      ],
      "metadata": {
        "id": "kfK9grWhMXMQ"
      },
      "execution_count": 7,
      "outputs": []
    },
    {
      "cell_type": "code",
      "source": [
        "model.fit(train_x,train_y)\n"
      ],
      "metadata": {
        "colab": {
          "base_uri": "https://localhost:8080/",
          "height": 74
        },
        "id": "p2Q4dg8YMZqX",
        "outputId": "3c22cf22-0ac0-49c8-f414-5214e43e867d"
      },
      "execution_count": 8,
      "outputs": [
        {
          "output_type": "execute_result",
          "data": {
            "text/plain": [
              "LinearRegression()"
            ],
            "text/html": [
              "<style>#sk-container-id-1 {color: black;background-color: white;}#sk-container-id-1 pre{padding: 0;}#sk-container-id-1 div.sk-toggleable {background-color: white;}#sk-container-id-1 label.sk-toggleable__label {cursor: pointer;display: block;width: 100%;margin-bottom: 0;padding: 0.3em;box-sizing: border-box;text-align: center;}#sk-container-id-1 label.sk-toggleable__label-arrow:before {content: \"▸\";float: left;margin-right: 0.25em;color: #696969;}#sk-container-id-1 label.sk-toggleable__label-arrow:hover:before {color: black;}#sk-container-id-1 div.sk-estimator:hover label.sk-toggleable__label-arrow:before {color: black;}#sk-container-id-1 div.sk-toggleable__content {max-height: 0;max-width: 0;overflow: hidden;text-align: left;background-color: #f0f8ff;}#sk-container-id-1 div.sk-toggleable__content pre {margin: 0.2em;color: black;border-radius: 0.25em;background-color: #f0f8ff;}#sk-container-id-1 input.sk-toggleable__control:checked~div.sk-toggleable__content {max-height: 200px;max-width: 100%;overflow: auto;}#sk-container-id-1 input.sk-toggleable__control:checked~label.sk-toggleable__label-arrow:before {content: \"▾\";}#sk-container-id-1 div.sk-estimator input.sk-toggleable__control:checked~label.sk-toggleable__label {background-color: #d4ebff;}#sk-container-id-1 div.sk-label input.sk-toggleable__control:checked~label.sk-toggleable__label {background-color: #d4ebff;}#sk-container-id-1 input.sk-hidden--visually {border: 0;clip: rect(1px 1px 1px 1px);clip: rect(1px, 1px, 1px, 1px);height: 1px;margin: -1px;overflow: hidden;padding: 0;position: absolute;width: 1px;}#sk-container-id-1 div.sk-estimator {font-family: monospace;background-color: #f0f8ff;border: 1px dotted black;border-radius: 0.25em;box-sizing: border-box;margin-bottom: 0.5em;}#sk-container-id-1 div.sk-estimator:hover {background-color: #d4ebff;}#sk-container-id-1 div.sk-parallel-item::after {content: \"\";width: 100%;border-bottom: 1px solid gray;flex-grow: 1;}#sk-container-id-1 div.sk-label:hover label.sk-toggleable__label {background-color: #d4ebff;}#sk-container-id-1 div.sk-serial::before {content: \"\";position: absolute;border-left: 1px solid gray;box-sizing: border-box;top: 0;bottom: 0;left: 50%;z-index: 0;}#sk-container-id-1 div.sk-serial {display: flex;flex-direction: column;align-items: center;background-color: white;padding-right: 0.2em;padding-left: 0.2em;position: relative;}#sk-container-id-1 div.sk-item {position: relative;z-index: 1;}#sk-container-id-1 div.sk-parallel {display: flex;align-items: stretch;justify-content: center;background-color: white;position: relative;}#sk-container-id-1 div.sk-item::before, #sk-container-id-1 div.sk-parallel-item::before {content: \"\";position: absolute;border-left: 1px solid gray;box-sizing: border-box;top: 0;bottom: 0;left: 50%;z-index: -1;}#sk-container-id-1 div.sk-parallel-item {display: flex;flex-direction: column;z-index: 1;position: relative;background-color: white;}#sk-container-id-1 div.sk-parallel-item:first-child::after {align-self: flex-end;width: 50%;}#sk-container-id-1 div.sk-parallel-item:last-child::after {align-self: flex-start;width: 50%;}#sk-container-id-1 div.sk-parallel-item:only-child::after {width: 0;}#sk-container-id-1 div.sk-dashed-wrapped {border: 1px dashed gray;margin: 0 0.4em 0.5em 0.4em;box-sizing: border-box;padding-bottom: 0.4em;background-color: white;}#sk-container-id-1 div.sk-label label {font-family: monospace;font-weight: bold;display: inline-block;line-height: 1.2em;}#sk-container-id-1 div.sk-label-container {text-align: center;}#sk-container-id-1 div.sk-container {/* jupyter's `normalize.less` sets `[hidden] { display: none; }` but bootstrap.min.css set `[hidden] { display: none !important; }` so we also need the `!important` here to be able to override the default hidden behavior on the sphinx rendered scikit-learn.org. See: https://github.com/scikit-learn/scikit-learn/issues/21755 */display: inline-block !important;position: relative;}#sk-container-id-1 div.sk-text-repr-fallback {display: none;}</style><div id=\"sk-container-id-1\" class=\"sk-top-container\"><div class=\"sk-text-repr-fallback\"><pre>LinearRegression()</pre><b>In a Jupyter environment, please rerun this cell to show the HTML representation or trust the notebook. <br />On GitHub, the HTML representation is unable to render, please try loading this page with nbviewer.org.</b></div><div class=\"sk-container\" hidden><div class=\"sk-item\"><div class=\"sk-estimator sk-toggleable\"><input class=\"sk-toggleable__control sk-hidden--visually\" id=\"sk-estimator-id-1\" type=\"checkbox\" checked><label for=\"sk-estimator-id-1\" class=\"sk-toggleable__label sk-toggleable__label-arrow\">LinearRegression</label><div class=\"sk-toggleable__content\"><pre>LinearRegression()</pre></div></div></div></div></div>"
            ]
          },
          "metadata": {},
          "execution_count": 8
        }
      ]
    },
    {
      "cell_type": "code",
      "source": [
        "print('\\nCoefficient of model :', model.coef_)"
      ],
      "metadata": {
        "colab": {
          "base_uri": "https://localhost:8080/"
        },
        "id": "l2q2374iMboG",
        "outputId": "312da378-7624-40df-e164-8832a58b6276"
      },
      "execution_count": 9,
      "outputs": [
        {
          "output_type": "stream",
          "name": "stdout",
          "text": [
            "\n",
            "Coefficient of model : [-3.84197604e+00  9.83065945e+00  1.61711856e+01  6.09197622e+01\n",
            " -8.64161561e+01  1.23593376e+02  2.34714039e+02 -2.44597425e+02\n",
            " -2.72938329e+01 -8.09611456e+00 -3.01147840e+02  1.70727611e+02\n",
            " -5.40194744e+01  7.34248834e+01  1.70313375e+00 -5.07701615e+01\n",
            "  1.63553657e+02 -5.85286125e+01  1.04913492e+02 -6.01944874e+01\n",
            "  1.98948206e+02 -1.40959023e+02  1.19426257e+02  2.66382669e+01\n",
            " -1.85619792e+02  1.43925357e+03  2.16134663e+02  3.54723990e+01\n",
            "  3.54832996e+02 -5.54559635e+00 -3.49287400e+02 -1.39202954e+03\n",
            " -2.57982359e+02 -9.59016062e+02  2.60902796e+03]\n"
          ]
        }
      ]
    },
    {
      "cell_type": "code",
      "source": [
        "print('\\nIntercept of model',model.intercept_)\n"
      ],
      "metadata": {
        "colab": {
          "base_uri": "https://localhost:8080/"
        },
        "id": "Iq3LkLQRMen3",
        "outputId": "197f3df5-7b68-481e-c949-461b573a661d"
      },
      "execution_count": 10,
      "outputs": [
        {
          "output_type": "stream",
          "name": "stdout",
          "text": [
            "\n",
            "Intercept of model -121926.9747329832\n"
          ]
        }
      ]
    },
    {
      "cell_type": "code",
      "source": [
        "predict_train = model.predict(train_x)\n",
        "print('\\nItem_Outlet_Sales on training data',predict_train)"
      ],
      "metadata": {
        "colab": {
          "base_uri": "https://localhost:8080/"
        },
        "id": "bOSjPvcXMg4H",
        "outputId": "89d3cbdd-9097-4625-8c4d-e037707282b7"
      },
      "execution_count": 11,
      "outputs": [
        {
          "output_type": "stream",
          "name": "stdout",
          "text": [
            "\n",
            "Item_Outlet_Sales on training data [ 803.88817641 1733.98835979 3294.52154482 ...  811.16967914 2343.96927185\n",
            " 2444.98869913]\n"
          ]
        }
      ]
    },
    {
      "cell_type": "code",
      "source": [
        "rmse_train = mean_squared_error(train_y,predict_train)**(0.5)\n",
        "print('\\nRMSE on train dataset : ', rmse_train)\n"
      ],
      "metadata": {
        "colab": {
          "base_uri": "https://localhost:8080/"
        },
        "id": "OSzDLMjDMjkG",
        "outputId": "838e0cc5-ef9e-4f51-cb1e-0e115d14529c"
      },
      "execution_count": 12,
      "outputs": [
        {
          "output_type": "stream",
          "name": "stdout",
          "text": [
            "\n",
            "RMSE on train dataset :  1135.8159344155245\n"
          ]
        }
      ]
    },
    {
      "cell_type": "code",
      "source": [
        "predict_test = model.predict(test_x)\n",
        "print('\\nItem_Outlet_Sales on test data',predict_test)\n"
      ],
      "metadata": {
        "colab": {
          "base_uri": "https://localhost:8080/"
        },
        "id": "SfgysHm_MljM",
        "outputId": "a8a90a10-c967-4b4f-8f8a-e014c94508fa"
      },
      "execution_count": 13,
      "outputs": [
        {
          "output_type": "stream",
          "name": "stdout",
          "text": [
            "\n",
            "Item_Outlet_Sales on test data [ 1615.37962439  3168.60806673  2564.31326686  2685.29698657\n",
            "  2771.82059109  4223.3788671   2615.10827403   565.8088248\n",
            "  4000.68496927  1035.54578573  2184.60316447  1033.54185437\n",
            "   150.22804639  1616.19932803  2370.37858454  1953.693325\n",
            "  2307.09514556  1429.85271583  2343.42149697  3780.28905363\n",
            "   583.44339124  1089.08346168  2323.64661483  3559.90832258\n",
            "  1829.46789667  1602.03985138   840.70282292  1823.14253132\n",
            "  3145.30906529  1823.30397678  2103.35401623  3025.02597477\n",
            "  2265.03907268   697.33936172  4474.05156681  2270.45195749\n",
            "  1897.45212218  3305.0110824   2228.36615412  3767.90052861\n",
            "  2162.33844917   665.40410258  -926.22966666   738.30407877\n",
            "   197.90808777  2483.25075805  3693.05388376  2458.43116228\n",
            "  1329.02544771   -57.67123156  1952.26612825  3614.4167807\n",
            "  2127.22359714  2486.1932574   1826.90446272   786.7283994\n",
            "  3200.67525412  1981.66000538  2326.98747373  3535.12951812\n",
            "    53.4756877    129.4629475   4259.8975191   3732.15225981\n",
            "  4454.54642228   717.26348394  1431.6614166    581.01605137\n",
            "  1119.93954645  2392.48117429  1155.07145201  3528.03281464\n",
            "  2044.86804694   455.24692632  1342.74411911  1033.2840843\n",
            "  1406.11005231   794.30323743  1098.87255812    83.75695654\n",
            "  1250.60074702  1495.67548794  2424.43083225  1844.12427139\n",
            "  3082.43684194  3765.07357641   771.99003119  4435.95849625\n",
            "   738.14937479   850.57494768  2622.28171329  1655.50682655\n",
            "   907.1351255   4290.06774145   953.43327412  5344.75965244\n",
            "  4088.62424173  2806.91278755  3128.8067004   1928.5781408\n",
            "  4036.11769697  3180.16424086  3139.20756065   542.83160506\n",
            "  2532.07785569  1105.76857669  3504.70144046  3939.48193634\n",
            "   333.08756699  1948.88080922  1231.78773626  2740.61520829\n",
            "  2346.30720313  3424.19140178  3051.02145123  1014.75408262\n",
            "  1782.52495649  1841.62002811  3947.82775657  1614.81023184\n",
            "  1389.86016917  1928.35682551  2619.4880638   2472.77585379\n",
            "  2692.29331855    78.62892708  2330.19059149  4159.73973081\n",
            "  4529.46230433  2264.57300155  1826.88342763  1275.25198009\n",
            "  -457.62680268   329.71458616  5805.46289307 -1450.16404187\n",
            "  1501.61687972  2965.88387942  1611.61916429  1886.73538613\n",
            "  1242.79778954  4296.14339619  1728.68334987  1509.00474116\n",
            "  2260.5918405   4159.20469494  3193.38759006  1509.53713972\n",
            "  2210.42073119  5754.97388686 -1170.50864902  3162.64617061\n",
            "  1994.01620756  1917.42431232  4404.60357762   997.35766781\n",
            "  1742.51236828  2265.77611998  2543.6189625   1469.66880224\n",
            "  1975.14690278  1225.30048856  4218.66518874  1697.85375137\n",
            "  2790.38688349  3935.99362435   625.06246143  2373.6866766\n",
            "  1831.0172668   1796.26777    -1075.85814761   427.15550704\n",
            "  1746.36375123   233.53413014  1774.33869755  2918.17108391\n",
            "  1912.23196062  3497.76791      605.64499947   761.50725234\n",
            "   575.95154528  2460.73367421  1613.43332209  1746.36921802\n",
            "  1366.92450243  2750.82093523  2708.27802108  2113.05123036\n",
            "  4091.83752837  2621.18104708  3834.85938706   866.33297998\n",
            "  3178.14854212  1320.60993899   614.11653153  2996.50726857\n",
            "  4183.21848289  2768.14376223  1894.7224403   2168.35936706\n",
            "  -430.75854506  1752.34512895  2547.47132497  3202.07672874\n",
            "  4158.43802333  2603.79263873  4096.2558171   4530.17698005\n",
            "  2657.59669754  1845.45481481  3390.50113508  2297.02310717\n",
            "  1935.22179911  1039.45233714  1610.06188742  2349.26388899\n",
            "  1687.75642234  1416.88045961  3186.47487698  1380.9005566\n",
            "  2048.98028877  3115.36727803  3192.74829239  2957.81471134\n",
            "  -309.39482285  3792.4834738   3808.61032694  3669.63236467\n",
            "  3736.43245566  2277.01639962   857.76812536  2528.67482118\n",
            "  4700.44879575  2872.01837914  2804.08508738 -1045.53520215\n",
            "  -183.90085944  2556.47193302  3194.77054019  3108.48089695\n",
            "  4718.52624333  3623.54852334  3038.4043458   2900.27886742\n",
            "  1042.6899685   3242.69016168  1632.6328344   3395.96081244\n",
            "  2213.18339089  2707.37203753  4165.66077486  1492.34822792\n",
            "  -132.72238794  1102.63092166  1438.80008104  1443.75837334\n",
            "  1829.01554695   973.12771481  3271.39421376  3254.27432253\n",
            "  -161.46169522    72.58218786  1774.24125644  -632.66831423\n",
            "  2531.55226268  4485.65882169  1796.44459658  2519.74607773\n",
            "  2371.38081459  4194.8355524   -771.30234698  1344.46736265\n",
            "  -967.33576066  1353.05300573  3265.73163044  2670.2925567\n",
            "  1613.75708737  3189.58746374  -810.85964358  2753.09992531\n",
            "  2178.28032441  2732.98784197  2110.04822199  2327.68963809\n",
            "  3870.64913841  2926.04570599  2779.15291241   636.25728977\n",
            "  1194.1928894   4778.71033823  3066.39089093  3328.54835279\n",
            "  4400.46098188  1894.895569    4290.01251609   572.99300136\n",
            "  2579.24830491  3349.60698124  2982.54911796  2674.56165895\n",
            "  3763.95229207  3884.58791149  3782.90713719  3939.12885079\n",
            "  3850.1735489   3870.01081561  3964.5331962   2908.96433528\n",
            "  1001.51593302   509.85548611  2026.75019074  5691.58192484\n",
            "  2105.74552915  1747.54922009  3110.61258139   115.7401617\n",
            "  5172.75086929  3338.73543581  4144.05762646   805.53285192\n",
            "  2331.40657555  3206.99378836   386.55122767  2938.94701141\n",
            "  1873.28577011  2144.49147042  3082.87955228  3870.29871722\n",
            "  1791.43594337  1069.11477182  3294.84134826  5603.61296774\n",
            "  1645.44477396   232.82442927  1181.13519601  3701.34493377\n",
            "  4099.97384712  2877.21991084  3519.04358701  1707.98351381\n",
            "   170.07605396]\n"
          ]
        }
      ]
    },
    {
      "cell_type": "code",
      "source": [
        "rmse_test = mean_squared_error(test_y,predict_test)**(0.5)\n",
        "print('\\nRMSE on test dataset : ', rmse_test)"
      ],
      "metadata": {
        "colab": {
          "base_uri": "https://localhost:8080/"
        },
        "id": "qj2FMZEpMnzN",
        "outputId": "f44845d2-5310-4781-df22-dd3029e5ab14"
      },
      "execution_count": 14,
      "outputs": [
        {
          "output_type": "stream",
          "name": "stdout",
          "text": [
            "\n",
            "RMSE on test dataset :  1009.2517232209668\n"
          ]
        }
      ]
    },
    {
      "cell_type": "code",
      "source": [],
      "metadata": {
        "id": "0_8D8XeZMqWV"
      },
      "execution_count": null,
      "outputs": []
    }
  ]
}